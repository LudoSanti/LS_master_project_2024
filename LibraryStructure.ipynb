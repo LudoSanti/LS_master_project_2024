{
 "cells": [
  {
   "cell_type": "code",
   "execution_count": 1,
   "id": "94ad7872-e2da-4768-b353-7823c071cb62",
   "metadata": {},
   "outputs": [],
   "source": [
    "#from Function.Check.load import load_json"
   ]
  },
  {
   "cell_type": "code",
   "execution_count": 2,
   "id": "cc6dd7e1-6554-45e4-95de-2fb25d54d0e1",
   "metadata": {},
   "outputs": [
    {
     "name": "stdout",
     "output_type": "stream",
     "text": [
      "Valid JSON format. The execution proceeds\n"
     ]
    }
   ],
   "source": [
    "#load_json('Data/inputGenerico.json')"
   ]
  },
  {
   "cell_type": "code",
   "execution_count": 3,
   "id": "62ec90de-24ec-4023-8257-3563aa128c32",
   "metadata": {},
   "outputs": [],
   "source": [
    "from Function.Transformation.transform_json import transform"
   ]
  },
  {
   "cell_type": "code",
   "execution_count": 4,
   "id": "6b16ce51-f3b1-45e0-81dc-f44307554624",
   "metadata": {},
   "outputs": [
    {
     "name": "stdout",
     "output_type": "stream",
     "text": [
      "Valid JSON format. The execution proceeds\n",
      " Applying 'insert control field' function to indetify if the review deals with a specific dimension. Addictionaly, the function enables to analyze the review coprus and title.\n",
      "File updated and saved in 'Data/reviews_dimensions'\n",
      "'insert control field' function applied\n"
     ]
    }
   ],
   "source": [
    "transform('Data/inputGenerico_date.json', ['carbonara', 'supplì'])"
   ]
  },
  {
   "cell_type": "code",
   "execution_count": 5,
   "id": "92b1a584-340c-416b-a05e-d6aea21b4acb",
   "metadata": {},
   "outputs": [],
   "source": [
    "from Function.Transformation.transform_json import split_json_by_dimension"
   ]
  },
  {
   "cell_type": "code",
   "execution_count": 6,
   "id": "83ef97de-093f-46da-8d22-78eeb3230738",
   "metadata": {},
   "outputs": [
    {
     "name": "stdout",
     "output_type": "stream",
     "text": [
      "Working on reviews about carbonara\n",
      "New JSON file saved in Data/input_LLM_carbonara.json\n",
      "Working on reviews about supplì\n",
      "New JSON file saved in Data/input_LLM_supplì.json\n"
     ]
    }
   ],
   "source": [
    "split_json_by_dimension(['carbonara', 'supplì'])"
   ]
  },
  {
   "cell_type": "code",
   "execution_count": 7,
   "id": "e52571c5-e25f-4199-bf3c-ed8c6b8de9cc",
   "metadata": {},
   "outputs": [],
   "source": [
    "from Function.ReviewSentiment.LLM_sentiment import Create_csv_sentiment"
   ]
  },
  {
   "cell_type": "code",
   "execution_count": 10,
   "id": "4b9d4ea8-3777-4793-b3ce-e89f127ffcef",
   "metadata": {},
   "outputs": [
    {
     "name": "stdout",
     "output_type": "stream",
     "text": [
      "Analysing sentiment for reviews on which users talk about carbonara\n",
      "Checking sentiment values\n",
      "Sentiment output saved in ./Data/sentiment_carbonara.csv\n",
      "Analysing sentiment for reviews on which users talk about supplì\n",
      "Checking sentiment values\n",
      "Sentiment output saved in ./Data/sentiment_supplì.csv\n"
     ]
    }
   ],
   "source": [
    "Create_csv_sentiment(topic, dimensions)"
   ]
  },
  {
   "cell_type": "code",
   "execution_count": 1,
   "id": "3cc059b6-62ab-47c5-96f0-ab668c9a062f",
   "metadata": {},
   "outputs": [],
   "source": [
    "dimensions = ['carbonara', 'supplì']\n",
    "topic='ristoranti'"
   ]
  },
  {
   "cell_type": "code",
   "execution_count": 2,
   "id": "3c429973-7cc8-41a7-89fe-e5efd5650e21",
   "metadata": {},
   "outputs": [],
   "source": [
    "from Function.Ranking.RankingFunctions import create_dataset"
   ]
  },
  {
   "cell_type": "code",
   "execution_count": 3,
   "id": "244e8918-7254-4f24-a1ef-a22f3cd19e84",
   "metadata": {},
   "outputs": [
    {
     "name": "stdout",
     "output_type": "stream",
     "text": [
      "Dimensions information added\n",
      "Popolarity information added\n",
      "Computing freshness\n",
      "Freshness information added\n",
      "Computing ranking\n",
      "Dataframe saved\n"
     ]
    }
   ],
   "source": [
    "create_dataset(dimensions)"
   ]
  },
  {
   "cell_type": "code",
   "execution_count": null,
   "id": "76e5bcdb-cb43-4c17-a4e6-e11e2333b91d",
   "metadata": {},
   "outputs": [],
   "source": []
  }
 ],
 "metadata": {
  "kernelspec": {
   "display_name": "Python 3 (ipykernel)",
   "language": "python",
   "name": "python3"
  },
  "language_info": {
   "codemirror_mode": {
    "name": "ipython",
    "version": 3
   },
   "file_extension": ".py",
   "mimetype": "text/x-python",
   "name": "python",
   "nbconvert_exporter": "python",
   "pygments_lexer": "ipython3",
   "version": "3.12.1"
  }
 },
 "nbformat": 4,
 "nbformat_minor": 5
}
